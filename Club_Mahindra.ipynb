{
  "nbformat": 4,
  "nbformat_minor": 0,
  "metadata": {
    "colab": {
      "name": "Club Mahindra.ipynb",
      "version": "0.3.2",
      "provenance": [],
      "collapsed_sections": [],
      "include_colab_link": true
    },
    "kernelspec": {
      "name": "python3",
      "display_name": "Python 3"
    }
  },
  "cells": [
    {
      "cell_type": "markdown",
      "metadata": {
        "id": "view-in-github",
        "colab_type": "text"
      },
      "source": [
        "<a href=\"https://colab.research.google.com/github/ShreshthSaxena/Club-Mahindra-DataOlympics/blob/master/Club_Mahindra.ipynb\" target=\"_parent\"><img src=\"https://colab.research.google.com/assets/colab-badge.svg\" alt=\"Open In Colab\"/></a>"
      ]
    },
    {
      "cell_type": "code",
      "metadata": {
        "id": "TJ8mcxDLFjWC",
        "colab_type": "code",
        "outputId": "50e9c2ce-b856-4a24-925e-ed2ea1913aa3",
        "colab": {
          "base_uri": "https://localhost:8080/",
          "height": 122
        }
      },
      "source": [
        "from google.colab import drive\n",
        "drive.mount('/content/gdrive')"
      ],
      "execution_count": 1,
      "outputs": [
        {
          "output_type": "stream",
          "text": [
            "Go to this URL in a browser: https://accounts.google.com/o/oauth2/auth?client_id=947318989803-6bn6qk8qdgf4n4g3pfee6491hc0brc4i.apps.googleusercontent.com&redirect_uri=urn%3Aietf%3Awg%3Aoauth%3A2.0%3Aoob&scope=email%20https%3A%2F%2Fwww.googleapis.com%2Fauth%2Fdocs.test%20https%3A%2F%2Fwww.googleapis.com%2Fauth%2Fdrive%20https%3A%2F%2Fwww.googleapis.com%2Fauth%2Fdrive.photos.readonly%20https%3A%2F%2Fwww.googleapis.com%2Fauth%2Fpeopleapi.readonly&response_type=code\n",
            "\n",
            "Enter your authorization code:\n",
            "··········\n",
            "Mounted at /content/gdrive\n"
          ],
          "name": "stdout"
        }
      ]
    },
    {
      "cell_type": "code",
      "metadata": {
        "id": "sffgQWGVB8Ly",
        "colab_type": "code",
        "outputId": "98a1f709-4a3f-4f70-8897-24e418ef2491",
        "colab": {
          "base_uri": "https://localhost:8080/",
          "height": 34
        }
      },
      "source": [
        "cd /content/gdrive/My Drive/"
      ],
      "execution_count": 2,
      "outputs": [
        {
          "output_type": "stream",
          "text": [
            "/content/gdrive/My Drive\n"
          ],
          "name": "stdout"
        }
      ]
    },
    {
      "cell_type": "code",
      "metadata": {
        "id": "WqnKQIFeCmY1",
        "colab_type": "code",
        "colab": {}
      },
      "source": [
        "import pandas as pd\n",
        "import numpy as np \n",
        "import seaborn as sns\n",
        "import matplotlib.pyplot as plt\n",
        "from sklearn.ensemble import RandomForestRegressor\n",
        "from sklearn.ensemble import GradientBoostingRegressor\n",
        "from sklearn.preprocessing import LabelBinarizer as lb\n",
        "from sklearn.metrics import mean_squared_error"
      ],
      "execution_count": 0,
      "outputs": []
    },
    {
      "cell_type": "code",
      "metadata": {
        "id": "7iXklAdYCYRX",
        "colab_type": "code",
        "colab": {}
      },
      "source": [
        "df = pd.read_csv('train.csv')\n",
        "df2 = pd.read_csv('test.csv')"
      ],
      "execution_count": 0,
      "outputs": []
    },
    {
      "cell_type": "code",
      "metadata": {
        "id": "Rtbl11vtelJb",
        "colab_type": "code",
        "outputId": "31fc9a1d-648f-41c5-ff21-957f793879ab",
        "colab": {
          "base_uri": "https://localhost:8080/",
          "height": 442
        }
      },
      "source": [
        "df.fillna({\"state_code_residence\":8.0, \"season_holidayed_code\":2.0}, inplace=True)\n",
        "df.isnull().sum()"
      ],
      "execution_count": 16,
      "outputs": [
        {
          "output_type": "execute_result",
          "data": {
            "text/plain": [
              "reservation_id                        0\n",
              "booking_date                          0\n",
              "checkin_date                          0\n",
              "checkout_date                         0\n",
              "channel_code                          0\n",
              "main_product_code                     0\n",
              "numberofadults                        0\n",
              "numberofchildren                      0\n",
              "persontravellingid                    0\n",
              "resort_region_code                    0\n",
              "resort_type_code                      0\n",
              "room_type_booked_code                 0\n",
              "roomnights                            0\n",
              "season_holidayed_code                 0\n",
              "state_code_residence                  0\n",
              "state_code_resort                     0\n",
              "total_pax                             0\n",
              "member_age_buckets                    0\n",
              "booking_type_code                     0\n",
              "memberid                              0\n",
              "cluster_code                          0\n",
              "reservationstatusid_code              0\n",
              "resort_id                             0\n",
              "amount_spent_per_room_night_scaled    0\n",
              "dtype: int64"
            ]
          },
          "metadata": {
            "tags": []
          },
          "execution_count": 16
        }
      ]
    },
    {
      "cell_type": "code",
      "metadata": {
        "id": "D21YHJEwvyus",
        "colab_type": "code",
        "outputId": "156c5264-833a-48d6-b75c-5109a43b7fb3",
        "colab": {
          "base_uri": "https://localhost:8080/",
          "height": 425
        }
      },
      "source": [
        "for i in df.columns:\n",
        "   print('column:',i,'len:',len(set(df[i])))"
      ],
      "execution_count": 8,
      "outputs": [
        {
          "output_type": "stream",
          "text": [
            "column: reservation_id len: 341424\n",
            "column: booking_date len: 1621\n",
            "column: checkin_date len: 1532\n",
            "column: checkout_date len: 1531\n",
            "column: channel_code len: 3\n",
            "column: main_product_code len: 5\n",
            "column: numberofadults len: 28\n",
            "column: numberofchildren len: 12\n",
            "column: persontravellingid len: 6\n",
            "column: resort_region_code len: 3\n",
            "column: resort_type_code len: 7\n",
            "column: room_type_booked_code len: 6\n",
            "column: roomnights len: 44\n",
            "column: season_holidayed_code len: 4\n",
            "column: state_code_residence len: 37\n",
            "column: state_code_resort len: 11\n",
            "column: total_pax len: 18\n",
            "column: member_age_buckets len: 10\n",
            "column: booking_type_code len: 2\n",
            "column: memberid len: 101327\n",
            "column: cluster_code len: 6\n",
            "column: reservationstatusid_code len: 4\n",
            "column: resort_id len: 32\n",
            "column: amount_spent_per_room_night_scaled len: 278083\n"
          ],
          "name": "stdout"
        }
      ]
    },
    {
      "cell_type": "code",
      "metadata": {
        "id": "dfNLzANpIQyg",
        "colab_type": "code",
        "outputId": "bbc73b63-14b0-4833-ee81-9a3da247254b",
        "colab": {
          "base_uri": "https://localhost:8080/",
          "height": 425
        }
      },
      "source": [
        "df['checkin_date']= pd.to_datetime(df['checkin_date'],dayfirst = True)\n",
        "df['checkout_date']= pd.to_datetime(df['checkout_date'],dayfirst = True)\n",
        "df['booking_date']= pd.to_datetime(df['booking_date'],dayfirst = True)\n",
        "df['stay']= df['checkout_date'] - df['checkin_date']\n",
        "df['stay']= df['stay'].dt.days\n",
        "df['planning']= df['checkin_date'] - df['booking_date']\n",
        "df['planning']= df['planning'].dt.days\n",
        "df['extradays']= df['roomnights'] - df['stay']\n",
        "\n",
        "df = df.drop(['checkin_date','checkout_date','booking_date','roomnights'],1)\n",
        "df.dtypes\n",
        "\n",
        "#'reservation_id','memberid','resort_id'"
      ],
      "execution_count": 17,
      "outputs": [
        {
          "output_type": "execute_result",
          "data": {
            "text/plain": [
              "reservation_id                         object\n",
              "channel_code                            int64\n",
              "main_product_code                       int64\n",
              "numberofadults                          int64\n",
              "numberofchildren                        int64\n",
              "persontravellingid                      int64\n",
              "resort_region_code                      int64\n",
              "resort_type_code                        int64\n",
              "room_type_booked_code                   int64\n",
              "season_holidayed_code                 float64\n",
              "state_code_residence                  float64\n",
              "state_code_resort                       int64\n",
              "total_pax                               int64\n",
              "member_age_buckets                     object\n",
              "booking_type_code                       int64\n",
              "memberid                               object\n",
              "cluster_code                           object\n",
              "reservationstatusid_code               object\n",
              "resort_id                              object\n",
              "amount_spent_per_room_night_scaled    float64\n",
              "stay                                    int64\n",
              "planning                                int64\n",
              "extradays                               int64\n",
              "dtype: object"
            ]
          },
          "metadata": {
            "tags": []
          },
          "execution_count": 17
        }
      ]
    },
    {
      "cell_type": "code",
      "metadata": {
        "id": "ZynFJgZjP-qe",
        "colab_type": "code",
        "outputId": "972a3ccd-c294-45d9-cc14-df445f80e344",
        "colab": {
          "base_uri": "https://localhost:8080/",
          "height": 102
        }
      },
      "source": [
        "for i in df.index:\n",
        "  if df.iloc[i]['total_pax'] == 0:\n",
        "    df['total_pax'][i] = df.iloc[i]['numberofadults']+df.iloc[i]['numberofchildren'] "
      ],
      "execution_count": 18,
      "outputs": [
        {
          "output_type": "stream",
          "text": [
            "/usr/local/lib/python3.6/dist-packages/ipykernel_launcher.py:3: SettingWithCopyWarning: \n",
            "A value is trying to be set on a copy of a slice from a DataFrame\n",
            "\n",
            "See the caveats in the documentation: http://pandas.pydata.org/pandas-docs/stable/indexing.html#indexing-view-versus-copy\n",
            "  This is separate from the ipykernel package so we can avoid doing imports until\n"
          ],
          "name": "stderr"
        }
      ]
    },
    {
      "cell_type": "code",
      "metadata": {
        "id": "sqN-eAogHt1-",
        "colab_type": "code",
        "outputId": "441bfc0e-7e3a-4a99-a3d3-c5292d7f5280",
        "colab": {
          "base_uri": "https://localhost:8080/",
          "height": 317
        }
      },
      "source": [
        "df['adultsp'] = df['numberofadults']/df['total_pax']\n",
        "df['childrenp'] = df['numberofchildren']/df['total_pax']\n",
        "df.describe()"
      ],
      "execution_count": 19,
      "outputs": [
        {
          "output_type": "execute_result",
          "data": {
            "text/html": [
              "<div>\n",
              "<style scoped>\n",
              "    .dataframe tbody tr th:only-of-type {\n",
              "        vertical-align: middle;\n",
              "    }\n",
              "\n",
              "    .dataframe tbody tr th {\n",
              "        vertical-align: top;\n",
              "    }\n",
              "\n",
              "    .dataframe thead th {\n",
              "        text-align: right;\n",
              "    }\n",
              "</style>\n",
              "<table border=\"1\" class=\"dataframe\">\n",
              "  <thead>\n",
              "    <tr style=\"text-align: right;\">\n",
              "      <th></th>\n",
              "      <th>channel_code</th>\n",
              "      <th>main_product_code</th>\n",
              "      <th>numberofadults</th>\n",
              "      <th>numberofchildren</th>\n",
              "      <th>persontravellingid</th>\n",
              "      <th>resort_region_code</th>\n",
              "      <th>resort_type_code</th>\n",
              "      <th>room_type_booked_code</th>\n",
              "      <th>season_holidayed_code</th>\n",
              "      <th>state_code_residence</th>\n",
              "      <th>state_code_resort</th>\n",
              "      <th>total_pax</th>\n",
              "      <th>booking_type_code</th>\n",
              "      <th>amount_spent_per_room_night_scaled</th>\n",
              "      <th>stay</th>\n",
              "      <th>planning</th>\n",
              "      <th>extradays</th>\n",
              "      <th>adultsp</th>\n",
              "      <th>childrenp</th>\n",
              "    </tr>\n",
              "  </thead>\n",
              "  <tbody>\n",
              "    <tr>\n",
              "      <th>count</th>\n",
              "      <td>341424.000000</td>\n",
              "      <td>341424.000000</td>\n",
              "      <td>341424.000000</td>\n",
              "      <td>341424.000000</td>\n",
              "      <td>341424.000000</td>\n",
              "      <td>341424.000000</td>\n",
              "      <td>341424.000000</td>\n",
              "      <td>341424.000000</td>\n",
              "      <td>341424.000000</td>\n",
              "      <td>341424.000000</td>\n",
              "      <td>341424.000000</td>\n",
              "      <td>341424.000000</td>\n",
              "      <td>341424.000000</td>\n",
              "      <td>341424.000000</td>\n",
              "      <td>341424.000000</td>\n",
              "      <td>341424.000000</td>\n",
              "      <td>341424.000000</td>\n",
              "      <td>341424.000000</td>\n",
              "      <td>341424.000000</td>\n",
              "    </tr>\n",
              "    <tr>\n",
              "      <th>mean</th>\n",
              "      <td>1.902810</td>\n",
              "      <td>2.208738</td>\n",
              "      <td>3.275361</td>\n",
              "      <td>0.362696</td>\n",
              "      <td>210.288905</td>\n",
              "      <td>1.772960</td>\n",
              "      <td>2.193832</td>\n",
              "      <td>2.890321</td>\n",
              "      <td>2.673637</td>\n",
              "      <td>7.271024</td>\n",
              "      <td>4.763303</td>\n",
              "      <td>3.193519</td>\n",
              "      <td>1.124209</td>\n",
              "      <td>7.720801</td>\n",
              "      <td>2.466646</td>\n",
              "      <td>46.084754</td>\n",
              "      <td>1.271700</td>\n",
              "      <td>1.156288</td>\n",
              "      <td>0.108124</td>\n",
              "    </tr>\n",
              "    <tr>\n",
              "      <th>std</th>\n",
              "      <td>0.915311</td>\n",
              "      <td>0.823779</td>\n",
              "      <td>1.756062</td>\n",
              "      <td>0.758019</td>\n",
              "      <td>865.735577</td>\n",
              "      <td>0.750806</td>\n",
              "      <td>1.551451</td>\n",
              "      <td>0.804260</td>\n",
              "      <td>0.885587</td>\n",
              "      <td>4.669174</td>\n",
              "      <td>3.103909</td>\n",
              "      <td>1.167642</td>\n",
              "      <td>0.329821</td>\n",
              "      <td>1.090109</td>\n",
              "      <td>1.093479</td>\n",
              "      <td>39.108967</td>\n",
              "      <td>2.202001</td>\n",
              "      <td>0.823781</td>\n",
              "      <td>0.242392</td>\n",
              "    </tr>\n",
              "    <tr>\n",
              "      <th>min</th>\n",
              "      <td>1.000000</td>\n",
              "      <td>1.000000</td>\n",
              "      <td>0.000000</td>\n",
              "      <td>0.000000</td>\n",
              "      <td>45.000000</td>\n",
              "      <td>1.000000</td>\n",
              "      <td>0.000000</td>\n",
              "      <td>1.000000</td>\n",
              "      <td>1.000000</td>\n",
              "      <td>1.000000</td>\n",
              "      <td>1.000000</td>\n",
              "      <td>1.000000</td>\n",
              "      <td>1.000000</td>\n",
              "      <td>1.600397</td>\n",
              "      <td>1.000000</td>\n",
              "      <td>-2219.000000</td>\n",
              "      <td>-52.000000</td>\n",
              "      <td>0.000000</td>\n",
              "      <td>0.000000</td>\n",
              "    </tr>\n",
              "    <tr>\n",
              "      <th>25%</th>\n",
              "      <td>1.000000</td>\n",
              "      <td>2.000000</td>\n",
              "      <td>2.000000</td>\n",
              "      <td>0.000000</td>\n",
              "      <td>45.000000</td>\n",
              "      <td>1.000000</td>\n",
              "      <td>1.000000</td>\n",
              "      <td>2.000000</td>\n",
              "      <td>2.000000</td>\n",
              "      <td>4.000000</td>\n",
              "      <td>2.000000</td>\n",
              "      <td>2.000000</td>\n",
              "      <td>1.000000</td>\n",
              "      <td>7.187260</td>\n",
              "      <td>2.000000</td>\n",
              "      <td>15.000000</td>\n",
              "      <td>0.000000</td>\n",
              "      <td>0.666667</td>\n",
              "      <td>0.000000</td>\n",
              "    </tr>\n",
              "    <tr>\n",
              "      <th>50%</th>\n",
              "      <td>2.000000</td>\n",
              "      <td>2.000000</td>\n",
              "      <td>3.000000</td>\n",
              "      <td>0.000000</td>\n",
              "      <td>45.000000</td>\n",
              "      <td>2.000000</td>\n",
              "      <td>2.000000</td>\n",
              "      <td>3.000000</td>\n",
              "      <td>3.000000</td>\n",
              "      <td>8.000000</td>\n",
              "      <td>5.000000</td>\n",
              "      <td>3.000000</td>\n",
              "      <td>1.000000</td>\n",
              "      <td>7.860814</td>\n",
              "      <td>2.000000</td>\n",
              "      <td>33.000000</td>\n",
              "      <td>0.000000</td>\n",
              "      <td>1.000000</td>\n",
              "      <td>0.000000</td>\n",
              "    </tr>\n",
              "    <tr>\n",
              "      <th>75%</th>\n",
              "      <td>3.000000</td>\n",
              "      <td>3.000000</td>\n",
              "      <td>4.000000</td>\n",
              "      <td>0.000000</td>\n",
              "      <td>45.000000</td>\n",
              "      <td>2.000000</td>\n",
              "      <td>3.000000</td>\n",
              "      <td>3.000000</td>\n",
              "      <td>3.000000</td>\n",
              "      <td>8.000000</td>\n",
              "      <td>7.000000</td>\n",
              "      <td>4.000000</td>\n",
              "      <td>1.000000</td>\n",
              "      <td>8.419144</td>\n",
              "      <td>3.000000</td>\n",
              "      <td>82.000000</td>\n",
              "      <td>2.000000</td>\n",
              "      <td>1.333333</td>\n",
              "      <td>0.000000</td>\n",
              "    </tr>\n",
              "    <tr>\n",
              "      <th>max</th>\n",
              "      <td>3.000000</td>\n",
              "      <td>7.000000</td>\n",
              "      <td>32.000000</td>\n",
              "      <td>13.000000</td>\n",
              "      <td>4995.000000</td>\n",
              "      <td>3.000000</td>\n",
              "      <td>7.000000</td>\n",
              "      <td>6.000000</td>\n",
              "      <td>4.000000</td>\n",
              "      <td>38.000000</td>\n",
              "      <td>13.000000</td>\n",
              "      <td>24.000000</td>\n",
              "      <td>2.000000</td>\n",
              "      <td>10.816652</td>\n",
              "      <td>26.000000</td>\n",
              "      <td>126.000000</td>\n",
              "      <td>50.000000</td>\n",
              "      <td>24.000000</td>\n",
              "      <td>8.000000</td>\n",
              "    </tr>\n",
              "  </tbody>\n",
              "</table>\n",
              "</div>"
            ],
            "text/plain": [
              "        channel_code  main_product_code  numberofadults  numberofchildren  \\\n",
              "count  341424.000000      341424.000000   341424.000000     341424.000000   \n",
              "mean        1.902810           2.208738        3.275361          0.362696   \n",
              "std         0.915311           0.823779        1.756062          0.758019   \n",
              "min         1.000000           1.000000        0.000000          0.000000   \n",
              "25%         1.000000           2.000000        2.000000          0.000000   \n",
              "50%         2.000000           2.000000        3.000000          0.000000   \n",
              "75%         3.000000           3.000000        4.000000          0.000000   \n",
              "max         3.000000           7.000000       32.000000         13.000000   \n",
              "\n",
              "       persontravellingid  resort_region_code  resort_type_code  \\\n",
              "count       341424.000000       341424.000000     341424.000000   \n",
              "mean           210.288905            1.772960          2.193832   \n",
              "std            865.735577            0.750806          1.551451   \n",
              "min             45.000000            1.000000          0.000000   \n",
              "25%             45.000000            1.000000          1.000000   \n",
              "50%             45.000000            2.000000          2.000000   \n",
              "75%             45.000000            2.000000          3.000000   \n",
              "max           4995.000000            3.000000          7.000000   \n",
              "\n",
              "       room_type_booked_code  season_holidayed_code  state_code_residence  \\\n",
              "count          341424.000000          341424.000000         341424.000000   \n",
              "mean                2.890321               2.673637              7.271024   \n",
              "std                 0.804260               0.885587              4.669174   \n",
              "min                 1.000000               1.000000              1.000000   \n",
              "25%                 2.000000               2.000000              4.000000   \n",
              "50%                 3.000000               3.000000              8.000000   \n",
              "75%                 3.000000               3.000000              8.000000   \n",
              "max                 6.000000               4.000000             38.000000   \n",
              "\n",
              "       state_code_resort      total_pax  booking_type_code  \\\n",
              "count      341424.000000  341424.000000      341424.000000   \n",
              "mean            4.763303       3.193519           1.124209   \n",
              "std             3.103909       1.167642           0.329821   \n",
              "min             1.000000       1.000000           1.000000   \n",
              "25%             2.000000       2.000000           1.000000   \n",
              "50%             5.000000       3.000000           1.000000   \n",
              "75%             7.000000       4.000000           1.000000   \n",
              "max            13.000000      24.000000           2.000000   \n",
              "\n",
              "       amount_spent_per_room_night_scaled           stay       planning  \\\n",
              "count                       341424.000000  341424.000000  341424.000000   \n",
              "mean                             7.720801       2.466646      46.084754   \n",
              "std                              1.090109       1.093479      39.108967   \n",
              "min                              1.600397       1.000000   -2219.000000   \n",
              "25%                              7.187260       2.000000      15.000000   \n",
              "50%                              7.860814       2.000000      33.000000   \n",
              "75%                              8.419144       3.000000      82.000000   \n",
              "max                             10.816652      26.000000     126.000000   \n",
              "\n",
              "           extradays        adultsp      childrenp  \n",
              "count  341424.000000  341424.000000  341424.000000  \n",
              "mean        1.271700       1.156288       0.108124  \n",
              "std         2.202001       0.823781       0.242392  \n",
              "min       -52.000000       0.000000       0.000000  \n",
              "25%         0.000000       0.666667       0.000000  \n",
              "50%         0.000000       1.000000       0.000000  \n",
              "75%         2.000000       1.333333       0.000000  \n",
              "max        50.000000      24.000000       8.000000  "
            ]
          },
          "metadata": {
            "tags": []
          },
          "execution_count": 19
        }
      ]
    },
    {
      "cell_type": "code",
      "metadata": {
        "id": "x6jXn0EOv6wH",
        "colab_type": "code",
        "colab": {}
      },
      "source": [
        "memberTrain = df['memberid'].value_counts()\n",
        "memberFeatureTrain = [0]*len(df)\n",
        "\n",
        "for i in range(len(df)):\n",
        "    memberFeatureTrain[i] = memberTrain[df.loc[i, 'memberid']]\n",
        "\n",
        "df['member_feature'] = memberFeatureTrain"
      ],
      "execution_count": 0,
      "outputs": []
    },
    {
      "cell_type": "code",
      "metadata": {
        "id": "Ah51CXluQjUG",
        "colab_type": "code",
        "colab": {}
      },
      "source": [
        "df['Persontravellingid'] = df['persontravellingid'].replace([45, 47, 46, 4752, 4753, 4995], [0, 1, 2, 3, 4, 5])\n",
        "df['State_code_residence'] = df['state_code_residence'].fillna(0)\n",
        "df['Member_age_buckets'] = df['member_age_buckets'].replace(['D', 'E', 'F', 'C', 'H', 'G', 'B', 'I', 'A', 'J'], [0, 1, 2, 3, 4, 5, 6, 7, 8, 9])\n",
        "df['Cluster_code'] = df['cluster_code'].replace(['F', 'E', 'D', 'C', 'B', 'A'], [5, 4, 3, 2, 1, 0])\n",
        "df['Reservationstatusid_code'] = df['reservationstatusid_code'].replace(['A', 'B', 'C', 'D'], [0, 1, 2, 0])\n",
        "\n",
        "resortCount=df['resort_id'].value_counts()\n",
        "df['Resort_code'] = df['resort_id'].replace(resortCount.index.tolist(), list(range(0, 32)))\n",
        "df = df.drop(['persontravellingid','state_code_residence','member_age_buckets','cluster_code','reservationstatusid_code'],1)"
      ],
      "execution_count": 0,
      "outputs": []
    },
    {
      "cell_type": "code",
      "metadata": {
        "id": "sy2uQ_SFDwsj",
        "colab_type": "code",
        "outputId": "fb6682f4-2c4c-4e28-a89c-f1ae5e3d1b79",
        "colab": {
          "base_uri": "https://localhost:8080/",
          "height": 297
        }
      },
      "source": [
        "num_data = df[[ 'adultsp', 'childrenp', 'numberofadults', 'numberofchildren', 'stay', 'planning', 'extradays', 'total_pax','amount_spent_per_room_night_scaled']]\n",
        "cat_data = df[['channel_code','main_product_code', 'Persontravellingid', 'resort_region_code','resort_type_code', 'season_holidayed_code', 'State_code_residence', 'state_code_resort','room_type_booked_code',\n",
        "              'Member_age_buckets', 'booking_type_code', 'Cluster_code' ]]\n",
        "#drop(['numberofadults', 'numberofchildren','stay', 'total_pax','amount_spent_per_room_night_scaled','state_code_residence'],1)\n",
        "num_data.describe()"
      ],
      "execution_count": 23,
      "outputs": [
        {
          "output_type": "execute_result",
          "data": {
            "text/html": [
              "<div>\n",
              "<style scoped>\n",
              "    .dataframe tbody tr th:only-of-type {\n",
              "        vertical-align: middle;\n",
              "    }\n",
              "\n",
              "    .dataframe tbody tr th {\n",
              "        vertical-align: top;\n",
              "    }\n",
              "\n",
              "    .dataframe thead th {\n",
              "        text-align: right;\n",
              "    }\n",
              "</style>\n",
              "<table border=\"1\" class=\"dataframe\">\n",
              "  <thead>\n",
              "    <tr style=\"text-align: right;\">\n",
              "      <th></th>\n",
              "      <th>adultsp</th>\n",
              "      <th>childrenp</th>\n",
              "      <th>numberofadults</th>\n",
              "      <th>numberofchildren</th>\n",
              "      <th>stay</th>\n",
              "      <th>planning</th>\n",
              "      <th>extradays</th>\n",
              "      <th>total_pax</th>\n",
              "      <th>amount_spent_per_room_night_scaled</th>\n",
              "    </tr>\n",
              "  </thead>\n",
              "  <tbody>\n",
              "    <tr>\n",
              "      <th>count</th>\n",
              "      <td>341424.000000</td>\n",
              "      <td>341424.000000</td>\n",
              "      <td>341424.000000</td>\n",
              "      <td>341424.000000</td>\n",
              "      <td>341424.000000</td>\n",
              "      <td>341424.000000</td>\n",
              "      <td>341424.000000</td>\n",
              "      <td>341424.000000</td>\n",
              "      <td>341424.000000</td>\n",
              "    </tr>\n",
              "    <tr>\n",
              "      <th>mean</th>\n",
              "      <td>1.156288</td>\n",
              "      <td>0.108124</td>\n",
              "      <td>3.275361</td>\n",
              "      <td>0.362696</td>\n",
              "      <td>2.466646</td>\n",
              "      <td>46.084754</td>\n",
              "      <td>1.271700</td>\n",
              "      <td>3.193519</td>\n",
              "      <td>7.720801</td>\n",
              "    </tr>\n",
              "    <tr>\n",
              "      <th>std</th>\n",
              "      <td>0.823781</td>\n",
              "      <td>0.242392</td>\n",
              "      <td>1.756062</td>\n",
              "      <td>0.758019</td>\n",
              "      <td>1.093479</td>\n",
              "      <td>39.108967</td>\n",
              "      <td>2.202001</td>\n",
              "      <td>1.167642</td>\n",
              "      <td>1.090109</td>\n",
              "    </tr>\n",
              "    <tr>\n",
              "      <th>min</th>\n",
              "      <td>0.000000</td>\n",
              "      <td>0.000000</td>\n",
              "      <td>0.000000</td>\n",
              "      <td>0.000000</td>\n",
              "      <td>1.000000</td>\n",
              "      <td>-2219.000000</td>\n",
              "      <td>-52.000000</td>\n",
              "      <td>1.000000</td>\n",
              "      <td>1.600397</td>\n",
              "    </tr>\n",
              "    <tr>\n",
              "      <th>25%</th>\n",
              "      <td>0.666667</td>\n",
              "      <td>0.000000</td>\n",
              "      <td>2.000000</td>\n",
              "      <td>0.000000</td>\n",
              "      <td>2.000000</td>\n",
              "      <td>15.000000</td>\n",
              "      <td>0.000000</td>\n",
              "      <td>2.000000</td>\n",
              "      <td>7.187260</td>\n",
              "    </tr>\n",
              "    <tr>\n",
              "      <th>50%</th>\n",
              "      <td>1.000000</td>\n",
              "      <td>0.000000</td>\n",
              "      <td>3.000000</td>\n",
              "      <td>0.000000</td>\n",
              "      <td>2.000000</td>\n",
              "      <td>33.000000</td>\n",
              "      <td>0.000000</td>\n",
              "      <td>3.000000</td>\n",
              "      <td>7.860814</td>\n",
              "    </tr>\n",
              "    <tr>\n",
              "      <th>75%</th>\n",
              "      <td>1.333333</td>\n",
              "      <td>0.000000</td>\n",
              "      <td>4.000000</td>\n",
              "      <td>0.000000</td>\n",
              "      <td>3.000000</td>\n",
              "      <td>82.000000</td>\n",
              "      <td>2.000000</td>\n",
              "      <td>4.000000</td>\n",
              "      <td>8.419144</td>\n",
              "    </tr>\n",
              "    <tr>\n",
              "      <th>max</th>\n",
              "      <td>24.000000</td>\n",
              "      <td>8.000000</td>\n",
              "      <td>32.000000</td>\n",
              "      <td>13.000000</td>\n",
              "      <td>26.000000</td>\n",
              "      <td>126.000000</td>\n",
              "      <td>50.000000</td>\n",
              "      <td>24.000000</td>\n",
              "      <td>10.816652</td>\n",
              "    </tr>\n",
              "  </tbody>\n",
              "</table>\n",
              "</div>"
            ],
            "text/plain": [
              "             adultsp      childrenp  numberofadults  numberofchildren  \\\n",
              "count  341424.000000  341424.000000   341424.000000     341424.000000   \n",
              "mean        1.156288       0.108124        3.275361          0.362696   \n",
              "std         0.823781       0.242392        1.756062          0.758019   \n",
              "min         0.000000       0.000000        0.000000          0.000000   \n",
              "25%         0.666667       0.000000        2.000000          0.000000   \n",
              "50%         1.000000       0.000000        3.000000          0.000000   \n",
              "75%         1.333333       0.000000        4.000000          0.000000   \n",
              "max        24.000000       8.000000       32.000000         13.000000   \n",
              "\n",
              "                stay       planning      extradays      total_pax  \\\n",
              "count  341424.000000  341424.000000  341424.000000  341424.000000   \n",
              "mean        2.466646      46.084754       1.271700       3.193519   \n",
              "std         1.093479      39.108967       2.202001       1.167642   \n",
              "min         1.000000   -2219.000000     -52.000000       1.000000   \n",
              "25%         2.000000      15.000000       0.000000       2.000000   \n",
              "50%         2.000000      33.000000       0.000000       3.000000   \n",
              "75%         3.000000      82.000000       2.000000       4.000000   \n",
              "max        26.000000     126.000000      50.000000      24.000000   \n",
              "\n",
              "       amount_spent_per_room_night_scaled  \n",
              "count                       341424.000000  \n",
              "mean                             7.720801  \n",
              "std                              1.090109  \n",
              "min                              1.600397  \n",
              "25%                              7.187260  \n",
              "50%                              7.860814  \n",
              "75%                              8.419144  \n",
              "max                             10.816652  "
            ]
          },
          "metadata": {
            "tags": []
          },
          "execution_count": 23
        }
      ]
    },
    {
      "cell_type": "code",
      "metadata": {
        "id": "jQJ1aZhN5E03",
        "colab_type": "code",
        "outputId": "10f319db-4988-4c38-f8dc-b972bcf28846",
        "colab": {
          "base_uri": "https://localhost:8080/",
          "height": 535
        }
      },
      "source": [
        "from sklearn.preprocessing import MinMaxScaler\n",
        "#num_data= np.sqrt(num_data)\n",
        "\n",
        "scaler = MinMaxScaler()\n",
        "num_data[num_data.columns] = scaler.fit_transform(num_data[num_data.columns])\n",
        "num_data.describe()"
      ],
      "execution_count": 24,
      "outputs": [
        {
          "output_type": "stream",
          "text": [
            "/usr/local/lib/python3.6/dist-packages/sklearn/preprocessing/data.py:334: DataConversionWarning: Data with input dtype int64, float64 were all converted to float64 by MinMaxScaler.\n",
            "  return self.partial_fit(X, y)\n",
            "/usr/local/lib/python3.6/dist-packages/ipykernel_launcher.py:5: SettingWithCopyWarning: \n",
            "A value is trying to be set on a copy of a slice from a DataFrame.\n",
            "Try using .loc[row_indexer,col_indexer] = value instead\n",
            "\n",
            "See the caveats in the documentation: http://pandas.pydata.org/pandas-docs/stable/indexing.html#indexing-view-versus-copy\n",
            "  \"\"\"\n",
            "/usr/local/lib/python3.6/dist-packages/pandas/core/indexing.py:543: SettingWithCopyWarning: \n",
            "A value is trying to be set on a copy of a slice from a DataFrame.\n",
            "Try using .loc[row_indexer,col_indexer] = value instead\n",
            "\n",
            "See the caveats in the documentation: http://pandas.pydata.org/pandas-docs/stable/indexing.html#indexing-view-versus-copy\n",
            "  self.obj[item] = s\n"
          ],
          "name": "stderr"
        },
        {
          "output_type": "execute_result",
          "data": {
            "text/html": [
              "<div>\n",
              "<style scoped>\n",
              "    .dataframe tbody tr th:only-of-type {\n",
              "        vertical-align: middle;\n",
              "    }\n",
              "\n",
              "    .dataframe tbody tr th {\n",
              "        vertical-align: top;\n",
              "    }\n",
              "\n",
              "    .dataframe thead th {\n",
              "        text-align: right;\n",
              "    }\n",
              "</style>\n",
              "<table border=\"1\" class=\"dataframe\">\n",
              "  <thead>\n",
              "    <tr style=\"text-align: right;\">\n",
              "      <th></th>\n",
              "      <th>adultsp</th>\n",
              "      <th>childrenp</th>\n",
              "      <th>numberofadults</th>\n",
              "      <th>numberofchildren</th>\n",
              "      <th>stay</th>\n",
              "      <th>planning</th>\n",
              "      <th>extradays</th>\n",
              "      <th>total_pax</th>\n",
              "      <th>amount_spent_per_room_night_scaled</th>\n",
              "    </tr>\n",
              "  </thead>\n",
              "  <tbody>\n",
              "    <tr>\n",
              "      <th>count</th>\n",
              "      <td>341424.000000</td>\n",
              "      <td>341424.000000</td>\n",
              "      <td>341424.000000</td>\n",
              "      <td>341424.000000</td>\n",
              "      <td>341424.000000</td>\n",
              "      <td>341424.000000</td>\n",
              "      <td>341424.000000</td>\n",
              "      <td>341424.000000</td>\n",
              "      <td>341424.000000</td>\n",
              "    </tr>\n",
              "    <tr>\n",
              "      <th>mean</th>\n",
              "      <td>0.048179</td>\n",
              "      <td>0.013515</td>\n",
              "      <td>0.102355</td>\n",
              "      <td>0.027900</td>\n",
              "      <td>0.058666</td>\n",
              "      <td>0.965921</td>\n",
              "      <td>0.522272</td>\n",
              "      <td>0.095370</td>\n",
              "      <td>0.664088</td>\n",
              "    </tr>\n",
              "    <tr>\n",
              "      <th>std</th>\n",
              "      <td>0.034324</td>\n",
              "      <td>0.030299</td>\n",
              "      <td>0.054877</td>\n",
              "      <td>0.058309</td>\n",
              "      <td>0.043739</td>\n",
              "      <td>0.016678</td>\n",
              "      <td>0.021588</td>\n",
              "      <td>0.050767</td>\n",
              "      <td>0.118281</td>\n",
              "    </tr>\n",
              "    <tr>\n",
              "      <th>min</th>\n",
              "      <td>0.000000</td>\n",
              "      <td>0.000000</td>\n",
              "      <td>0.000000</td>\n",
              "      <td>0.000000</td>\n",
              "      <td>0.000000</td>\n",
              "      <td>0.000000</td>\n",
              "      <td>0.000000</td>\n",
              "      <td>0.000000</td>\n",
              "      <td>0.000000</td>\n",
              "    </tr>\n",
              "    <tr>\n",
              "      <th>25%</th>\n",
              "      <td>0.027778</td>\n",
              "      <td>0.000000</td>\n",
              "      <td>0.062500</td>\n",
              "      <td>0.000000</td>\n",
              "      <td>0.040000</td>\n",
              "      <td>0.952665</td>\n",
              "      <td>0.509804</td>\n",
              "      <td>0.043478</td>\n",
              "      <td>0.606197</td>\n",
              "    </tr>\n",
              "    <tr>\n",
              "      <th>50%</th>\n",
              "      <td>0.041667</td>\n",
              "      <td>0.000000</td>\n",
              "      <td>0.093750</td>\n",
              "      <td>0.000000</td>\n",
              "      <td>0.040000</td>\n",
              "      <td>0.960341</td>\n",
              "      <td>0.509804</td>\n",
              "      <td>0.086957</td>\n",
              "      <td>0.679280</td>\n",
              "    </tr>\n",
              "    <tr>\n",
              "      <th>75%</th>\n",
              "      <td>0.055556</td>\n",
              "      <td>0.000000</td>\n",
              "      <td>0.125000</td>\n",
              "      <td>0.000000</td>\n",
              "      <td>0.080000</td>\n",
              "      <td>0.981237</td>\n",
              "      <td>0.529412</td>\n",
              "      <td>0.130435</td>\n",
              "      <td>0.739861</td>\n",
              "    </tr>\n",
              "    <tr>\n",
              "      <th>max</th>\n",
              "      <td>1.000000</td>\n",
              "      <td>1.000000</td>\n",
              "      <td>1.000000</td>\n",
              "      <td>1.000000</td>\n",
              "      <td>1.000000</td>\n",
              "      <td>1.000000</td>\n",
              "      <td>1.000000</td>\n",
              "      <td>1.000000</td>\n",
              "      <td>1.000000</td>\n",
              "    </tr>\n",
              "  </tbody>\n",
              "</table>\n",
              "</div>"
            ],
            "text/plain": [
              "             adultsp      childrenp  numberofadults  numberofchildren  \\\n",
              "count  341424.000000  341424.000000   341424.000000     341424.000000   \n",
              "mean        0.048179       0.013515        0.102355          0.027900   \n",
              "std         0.034324       0.030299        0.054877          0.058309   \n",
              "min         0.000000       0.000000        0.000000          0.000000   \n",
              "25%         0.027778       0.000000        0.062500          0.000000   \n",
              "50%         0.041667       0.000000        0.093750          0.000000   \n",
              "75%         0.055556       0.000000        0.125000          0.000000   \n",
              "max         1.000000       1.000000        1.000000          1.000000   \n",
              "\n",
              "                stay       planning      extradays      total_pax  \\\n",
              "count  341424.000000  341424.000000  341424.000000  341424.000000   \n",
              "mean        0.058666       0.965921       0.522272       0.095370   \n",
              "std         0.043739       0.016678       0.021588       0.050767   \n",
              "min         0.000000       0.000000       0.000000       0.000000   \n",
              "25%         0.040000       0.952665       0.509804       0.043478   \n",
              "50%         0.040000       0.960341       0.509804       0.086957   \n",
              "75%         0.080000       0.981237       0.529412       0.130435   \n",
              "max         1.000000       1.000000       1.000000       1.000000   \n",
              "\n",
              "       amount_spent_per_room_night_scaled  \n",
              "count                       341424.000000  \n",
              "mean                             0.664088  \n",
              "std                              0.118281  \n",
              "min                              0.000000  \n",
              "25%                              0.606197  \n",
              "50%                              0.679280  \n",
              "75%                              0.739861  \n",
              "max                              1.000000  "
            ]
          },
          "metadata": {
            "tags": []
          },
          "execution_count": 24
        }
      ]
    },
    {
      "cell_type": "code",
      "metadata": {
        "id": "3TKY9M4dAGuE",
        "colab_type": "code",
        "outputId": "68cf50bc-596a-4d75-a5c7-e138ee118fd0",
        "colab": {
          "base_uri": "https://localhost:8080/",
          "height": 221
        }
      },
      "source": [
        "for i in cat_data.columns:\n",
        "   print('column:',i,'len:',len(set(cat_data[i])))"
      ],
      "execution_count": 25,
      "outputs": [
        {
          "output_type": "stream",
          "text": [
            "column: channel_code len: 3\n",
            "column: main_product_code len: 5\n",
            "column: Persontravellingid len: 6\n",
            "column: resort_region_code len: 3\n",
            "column: resort_type_code len: 7\n",
            "column: season_holidayed_code len: 4\n",
            "column: State_code_residence len: 37\n",
            "column: state_code_resort len: 11\n",
            "column: room_type_booked_code len: 6\n",
            "column: Member_age_buckets len: 10\n",
            "column: booking_type_code len: 2\n",
            "column: Cluster_code len: 6\n"
          ],
          "name": "stdout"
        }
      ]
    },
    {
      "cell_type": "markdown",
      "metadata": {
        "id": "NB3R5thfsAcE",
        "colab_type": "text"
      },
      "source": [
        "BINARY ENCODING"
      ]
    },
    {
      "cell_type": "code",
      "metadata": {
        "id": "iYmuQXMeqNnp",
        "colab_type": "code",
        "outputId": "2bff5b3a-8f20-4d04-aa91-c3289aa02cac",
        "colab": {
          "base_uri": "https://localhost:8080/",
          "height": 275
        }
      },
      "source": [
        "!pip install category_encoders"
      ],
      "execution_count": 0,
      "outputs": [
        {
          "output_type": "stream",
          "text": [
            "Collecting category_encoders\n",
            "\u001b[?25l  Downloading https://files.pythonhosted.org/packages/6e/a1/f7a22f144f33be78afeb06bfa78478e8284a64263a3c09b1ef54e673841e/category_encoders-2.0.0-py2.py3-none-any.whl (87kB)\n",
            "\u001b[K     |████████████████████████████████| 92kB 5.7MB/s \n",
            "\u001b[?25hRequirement already satisfied: scikit-learn>=0.20.0 in /usr/local/lib/python3.6/dist-packages (from category_encoders) (0.20.3)\n",
            "Requirement already satisfied: patsy>=0.4.1 in /usr/local/lib/python3.6/dist-packages (from category_encoders) (0.5.1)\n",
            "Requirement already satisfied: pandas>=0.21.1 in /usr/local/lib/python3.6/dist-packages (from category_encoders) (0.24.2)\n",
            "Requirement already satisfied: scipy>=0.19.0 in /usr/local/lib/python3.6/dist-packages (from category_encoders) (1.2.1)\n",
            "Requirement already satisfied: numpy>=1.11.3 in /usr/local/lib/python3.6/dist-packages (from category_encoders) (1.16.3)\n",
            "Requirement already satisfied: statsmodels>=0.6.1 in /usr/local/lib/python3.6/dist-packages (from category_encoders) (0.9.0)\n",
            "Requirement already satisfied: six in /usr/local/lib/python3.6/dist-packages (from patsy>=0.4.1->category_encoders) (1.12.0)\n",
            "Requirement already satisfied: python-dateutil>=2.5.0 in /usr/local/lib/python3.6/dist-packages (from pandas>=0.21.1->category_encoders) (2.5.3)\n",
            "Requirement already satisfied: pytz>=2011k in /usr/local/lib/python3.6/dist-packages (from pandas>=0.21.1->category_encoders) (2018.9)\n",
            "Installing collected packages: category-encoders\n",
            "Successfully installed category-encoders-2.0.0\n"
          ],
          "name": "stdout"
        }
      ]
    },
    {
      "cell_type": "code",
      "metadata": {
        "id": "YmgyibKXpfh9",
        "colab_type": "code",
        "outputId": "c161de18-0a2e-45c6-be47-c1c50a924de0",
        "colab": {
          "base_uri": "https://localhost:8080/",
          "height": 253
        }
      },
      "source": [
        "cat_dat = cat_data.copy()\n",
        "\n",
        "import category_encoders as ce\n",
        "\n",
        "encoder = ce.BinaryEncoder()\n",
        "cat_dat = encoder.fit_transform(cat_dat)\n",
        "\n",
        "cat_dat.head()"
      ],
      "execution_count": 0,
      "outputs": [
        {
          "output_type": "execute_result",
          "data": {
            "text/html": [
              "<div>\n",
              "<style scoped>\n",
              "    .dataframe tbody tr th:only-of-type {\n",
              "        vertical-align: middle;\n",
              "    }\n",
              "\n",
              "    .dataframe tbody tr th {\n",
              "        vertical-align: top;\n",
              "    }\n",
              "\n",
              "    .dataframe thead th {\n",
              "        text-align: right;\n",
              "    }\n",
              "</style>\n",
              "<table border=\"1\" class=\"dataframe\">\n",
              "  <thead>\n",
              "    <tr style=\"text-align: right;\">\n",
              "      <th></th>\n",
              "      <th>channel_code</th>\n",
              "      <th>main_product_code</th>\n",
              "      <th>persontravellingid</th>\n",
              "      <th>resort_region_code</th>\n",
              "      <th>resort_type_code</th>\n",
              "      <th>room_type_booked_code</th>\n",
              "      <th>season_holidayed_code</th>\n",
              "      <th>state_code_resort</th>\n",
              "      <th>member_age_buckets_0</th>\n",
              "      <th>member_age_buckets_1</th>\n",
              "      <th>...</th>\n",
              "      <th>member_age_buckets_3</th>\n",
              "      <th>member_age_buckets_4</th>\n",
              "      <th>booking_type_code</th>\n",
              "      <th>cluster_code_0</th>\n",
              "      <th>cluster_code_1</th>\n",
              "      <th>cluster_code_2</th>\n",
              "      <th>cluster_code_3</th>\n",
              "      <th>reservationstatusid_code_0</th>\n",
              "      <th>reservationstatusid_code_1</th>\n",
              "      <th>reservationstatusid_code_2</th>\n",
              "    </tr>\n",
              "  </thead>\n",
              "  <tbody>\n",
              "    <tr>\n",
              "      <th>0</th>\n",
              "      <td>3</td>\n",
              "      <td>1</td>\n",
              "      <td>46</td>\n",
              "      <td>3</td>\n",
              "      <td>3</td>\n",
              "      <td>3</td>\n",
              "      <td>2.0</td>\n",
              "      <td>3</td>\n",
              "      <td>0</td>\n",
              "      <td>0</td>\n",
              "      <td>...</td>\n",
              "      <td>0</td>\n",
              "      <td>1</td>\n",
              "      <td>1</td>\n",
              "      <td>0</td>\n",
              "      <td>0</td>\n",
              "      <td>0</td>\n",
              "      <td>1</td>\n",
              "      <td>0</td>\n",
              "      <td>0</td>\n",
              "      <td>1</td>\n",
              "    </tr>\n",
              "    <tr>\n",
              "      <th>1</th>\n",
              "      <td>1</td>\n",
              "      <td>1</td>\n",
              "      <td>46</td>\n",
              "      <td>3</td>\n",
              "      <td>3</td>\n",
              "      <td>4</td>\n",
              "      <td>2.0</td>\n",
              "      <td>5</td>\n",
              "      <td>0</td>\n",
              "      <td>0</td>\n",
              "      <td>...</td>\n",
              "      <td>0</td>\n",
              "      <td>1</td>\n",
              "      <td>1</td>\n",
              "      <td>0</td>\n",
              "      <td>0</td>\n",
              "      <td>0</td>\n",
              "      <td>1</td>\n",
              "      <td>0</td>\n",
              "      <td>1</td>\n",
              "      <td>0</td>\n",
              "    </tr>\n",
              "    <tr>\n",
              "      <th>2</th>\n",
              "      <td>1</td>\n",
              "      <td>1</td>\n",
              "      <td>47</td>\n",
              "      <td>1</td>\n",
              "      <td>5</td>\n",
              "      <td>4</td>\n",
              "      <td>2.0</td>\n",
              "      <td>1</td>\n",
              "      <td>0</td>\n",
              "      <td>0</td>\n",
              "      <td>...</td>\n",
              "      <td>0</td>\n",
              "      <td>1</td>\n",
              "      <td>1</td>\n",
              "      <td>0</td>\n",
              "      <td>0</td>\n",
              "      <td>1</td>\n",
              "      <td>0</td>\n",
              "      <td>0</td>\n",
              "      <td>1</td>\n",
              "      <td>0</td>\n",
              "    </tr>\n",
              "    <tr>\n",
              "      <th>3</th>\n",
              "      <td>1</td>\n",
              "      <td>1</td>\n",
              "      <td>46</td>\n",
              "      <td>2</td>\n",
              "      <td>2</td>\n",
              "      <td>3</td>\n",
              "      <td>2.0</td>\n",
              "      <td>2</td>\n",
              "      <td>0</td>\n",
              "      <td>0</td>\n",
              "      <td>...</td>\n",
              "      <td>0</td>\n",
              "      <td>1</td>\n",
              "      <td>1</td>\n",
              "      <td>0</td>\n",
              "      <td>0</td>\n",
              "      <td>1</td>\n",
              "      <td>1</td>\n",
              "      <td>0</td>\n",
              "      <td>1</td>\n",
              "      <td>0</td>\n",
              "    </tr>\n",
              "    <tr>\n",
              "      <th>4</th>\n",
              "      <td>1</td>\n",
              "      <td>1</td>\n",
              "      <td>46</td>\n",
              "      <td>2</td>\n",
              "      <td>2</td>\n",
              "      <td>4</td>\n",
              "      <td>2.0</td>\n",
              "      <td>2</td>\n",
              "      <td>0</td>\n",
              "      <td>0</td>\n",
              "      <td>...</td>\n",
              "      <td>0</td>\n",
              "      <td>1</td>\n",
              "      <td>1</td>\n",
              "      <td>0</td>\n",
              "      <td>0</td>\n",
              "      <td>1</td>\n",
              "      <td>1</td>\n",
              "      <td>0</td>\n",
              "      <td>1</td>\n",
              "      <td>0</td>\n",
              "    </tr>\n",
              "  </tbody>\n",
              "</table>\n",
              "<p>5 rows × 21 columns</p>\n",
              "</div>"
            ],
            "text/plain": [
              "   channel_code  main_product_code  persontravellingid  resort_region_code  \\\n",
              "0             3                  1                  46                   3   \n",
              "1             1                  1                  46                   3   \n",
              "2             1                  1                  47                   1   \n",
              "3             1                  1                  46                   2   \n",
              "4             1                  1                  46                   2   \n",
              "\n",
              "   resort_type_code  room_type_booked_code  season_holidayed_code  \\\n",
              "0                 3                      3                    2.0   \n",
              "1                 3                      4                    2.0   \n",
              "2                 5                      4                    2.0   \n",
              "3                 2                      3                    2.0   \n",
              "4                 2                      4                    2.0   \n",
              "\n",
              "   state_code_resort  member_age_buckets_0  member_age_buckets_1  ...  \\\n",
              "0                  3                     0                     0  ...   \n",
              "1                  5                     0                     0  ...   \n",
              "2                  1                     0                     0  ...   \n",
              "3                  2                     0                     0  ...   \n",
              "4                  2                     0                     0  ...   \n",
              "\n",
              "   member_age_buckets_3  member_age_buckets_4  booking_type_code  \\\n",
              "0                     0                     1                  1   \n",
              "1                     0                     1                  1   \n",
              "2                     0                     1                  1   \n",
              "3                     0                     1                  1   \n",
              "4                     0                     1                  1   \n",
              "\n",
              "   cluster_code_0  cluster_code_1  cluster_code_2  cluster_code_3  \\\n",
              "0               0               0               0               1   \n",
              "1               0               0               0               1   \n",
              "2               0               0               1               0   \n",
              "3               0               0               1               1   \n",
              "4               0               0               1               1   \n",
              "\n",
              "   reservationstatusid_code_0  reservationstatusid_code_1  \\\n",
              "0                           0                           0   \n",
              "1                           0                           1   \n",
              "2                           0                           1   \n",
              "3                           0                           1   \n",
              "4                           0                           1   \n",
              "\n",
              "   reservationstatusid_code_2  \n",
              "0                           1  \n",
              "1                           0  \n",
              "2                           0  \n",
              "3                           0  \n",
              "4                           0  \n",
              "\n",
              "[5 rows x 21 columns]"
            ]
          },
          "metadata": {
            "tags": []
          },
          "execution_count": 39
        }
      ]
    },
    {
      "cell_type": "code",
      "metadata": {
        "id": "YW8pqSeQGQNz",
        "colab_type": "code",
        "colab": {}
      },
      "source": [
        ""
      ],
      "execution_count": 0,
      "outputs": []
    },
    {
      "cell_type": "markdown",
      "metadata": {
        "id": "1P6iSuGisDfi",
        "colab_type": "text"
      },
      "source": [
        "ONE HOT ENCODING\n"
      ]
    },
    {
      "cell_type": "code",
      "metadata": {
        "id": "3Pn0hVdIKcb3",
        "colab_type": "code",
        "outputId": "e286a3d8-a3c7-4210-a65e-8aaba0fd21aa",
        "colab": {
          "base_uri": "https://localhost:8080/",
          "height": 346
        }
      },
      "source": [
        "cat_data=pd.get_dummies(cat_data.astype('category'))\n",
        "cat_data.describe()"
      ],
      "execution_count": 26,
      "outputs": [
        {
          "output_type": "execute_result",
          "data": {
            "text/html": [
              "<div>\n",
              "<style scoped>\n",
              "    .dataframe tbody tr th:only-of-type {\n",
              "        vertical-align: middle;\n",
              "    }\n",
              "\n",
              "    .dataframe tbody tr th {\n",
              "        vertical-align: top;\n",
              "    }\n",
              "\n",
              "    .dataframe thead th {\n",
              "        text-align: right;\n",
              "    }\n",
              "</style>\n",
              "<table border=\"1\" class=\"dataframe\">\n",
              "  <thead>\n",
              "    <tr style=\"text-align: right;\">\n",
              "      <th></th>\n",
              "      <th>channel_code_1</th>\n",
              "      <th>channel_code_2</th>\n",
              "      <th>channel_code_3</th>\n",
              "      <th>main_product_code_1</th>\n",
              "      <th>main_product_code_2</th>\n",
              "      <th>main_product_code_3</th>\n",
              "      <th>main_product_code_4</th>\n",
              "      <th>main_product_code_7</th>\n",
              "      <th>Persontravellingid_0</th>\n",
              "      <th>Persontravellingid_1</th>\n",
              "      <th>...</th>\n",
              "      <th>Member_age_buckets_8</th>\n",
              "      <th>Member_age_buckets_9</th>\n",
              "      <th>booking_type_code_1</th>\n",
              "      <th>booking_type_code_2</th>\n",
              "      <th>Cluster_code_0</th>\n",
              "      <th>Cluster_code_1</th>\n",
              "      <th>Cluster_code_2</th>\n",
              "      <th>Cluster_code_3</th>\n",
              "      <th>Cluster_code_4</th>\n",
              "      <th>Cluster_code_5</th>\n",
              "    </tr>\n",
              "  </thead>\n",
              "  <tbody>\n",
              "    <tr>\n",
              "      <th>count</th>\n",
              "      <td>341424.000000</td>\n",
              "      <td>341424.000000</td>\n",
              "      <td>341424.000000</td>\n",
              "      <td>341424.000000</td>\n",
              "      <td>341424.000000</td>\n",
              "      <td>341424.00000</td>\n",
              "      <td>341424.000000</td>\n",
              "      <td>341424.000000</td>\n",
              "      <td>341424.000000</td>\n",
              "      <td>341424.000000</td>\n",
              "      <td>...</td>\n",
              "      <td>341424.000000</td>\n",
              "      <td>341424.000000</td>\n",
              "      <td>341424.000000</td>\n",
              "      <td>341424.000000</td>\n",
              "      <td>341424.000000</td>\n",
              "      <td>341424.000000</td>\n",
              "      <td>341424.000000</td>\n",
              "      <td>341424.000000</td>\n",
              "      <td>341424.000000</td>\n",
              "      <td>341424.000000</td>\n",
              "    </tr>\n",
              "    <tr>\n",
              "      <th>mean</th>\n",
              "      <td>0.472213</td>\n",
              "      <td>0.152763</td>\n",
              "      <td>0.375023</td>\n",
              "      <td>0.169355</td>\n",
              "      <td>0.520218</td>\n",
              "      <td>0.25261</td>\n",
              "      <td>0.054533</td>\n",
              "      <td>0.003283</td>\n",
              "      <td>0.782918</td>\n",
              "      <td>0.092495</td>\n",
              "      <td>...</td>\n",
              "      <td>0.020661</td>\n",
              "      <td>0.004036</td>\n",
              "      <td>0.875791</td>\n",
              "      <td>0.124209</td>\n",
              "      <td>0.086725</td>\n",
              "      <td>0.110329</td>\n",
              "      <td>0.110739</td>\n",
              "      <td>0.163676</td>\n",
              "      <td>0.175237</td>\n",
              "      <td>0.353294</td>\n",
              "    </tr>\n",
              "    <tr>\n",
              "      <th>std</th>\n",
              "      <td>0.499228</td>\n",
              "      <td>0.359760</td>\n",
              "      <td>0.484130</td>\n",
              "      <td>0.375066</td>\n",
              "      <td>0.499592</td>\n",
              "      <td>0.43451</td>\n",
              "      <td>0.227067</td>\n",
              "      <td>0.057206</td>\n",
              "      <td>0.412259</td>\n",
              "      <td>0.289724</td>\n",
              "      <td>...</td>\n",
              "      <td>0.142245</td>\n",
              "      <td>0.063402</td>\n",
              "      <td>0.329821</td>\n",
              "      <td>0.329821</td>\n",
              "      <td>0.281432</td>\n",
              "      <td>0.313300</td>\n",
              "      <td>0.313809</td>\n",
              "      <td>0.369982</td>\n",
              "      <td>0.380170</td>\n",
              "      <td>0.477994</td>\n",
              "    </tr>\n",
              "    <tr>\n",
              "      <th>min</th>\n",
              "      <td>0.000000</td>\n",
              "      <td>0.000000</td>\n",
              "      <td>0.000000</td>\n",
              "      <td>0.000000</td>\n",
              "      <td>0.000000</td>\n",
              "      <td>0.00000</td>\n",
              "      <td>0.000000</td>\n",
              "      <td>0.000000</td>\n",
              "      <td>0.000000</td>\n",
              "      <td>0.000000</td>\n",
              "      <td>...</td>\n",
              "      <td>0.000000</td>\n",
              "      <td>0.000000</td>\n",
              "      <td>0.000000</td>\n",
              "      <td>0.000000</td>\n",
              "      <td>0.000000</td>\n",
              "      <td>0.000000</td>\n",
              "      <td>0.000000</td>\n",
              "      <td>0.000000</td>\n",
              "      <td>0.000000</td>\n",
              "      <td>0.000000</td>\n",
              "    </tr>\n",
              "    <tr>\n",
              "      <th>25%</th>\n",
              "      <td>0.000000</td>\n",
              "      <td>0.000000</td>\n",
              "      <td>0.000000</td>\n",
              "      <td>0.000000</td>\n",
              "      <td>0.000000</td>\n",
              "      <td>0.00000</td>\n",
              "      <td>0.000000</td>\n",
              "      <td>0.000000</td>\n",
              "      <td>1.000000</td>\n",
              "      <td>0.000000</td>\n",
              "      <td>...</td>\n",
              "      <td>0.000000</td>\n",
              "      <td>0.000000</td>\n",
              "      <td>1.000000</td>\n",
              "      <td>0.000000</td>\n",
              "      <td>0.000000</td>\n",
              "      <td>0.000000</td>\n",
              "      <td>0.000000</td>\n",
              "      <td>0.000000</td>\n",
              "      <td>0.000000</td>\n",
              "      <td>0.000000</td>\n",
              "    </tr>\n",
              "    <tr>\n",
              "      <th>50%</th>\n",
              "      <td>0.000000</td>\n",
              "      <td>0.000000</td>\n",
              "      <td>0.000000</td>\n",
              "      <td>0.000000</td>\n",
              "      <td>1.000000</td>\n",
              "      <td>0.00000</td>\n",
              "      <td>0.000000</td>\n",
              "      <td>0.000000</td>\n",
              "      <td>1.000000</td>\n",
              "      <td>0.000000</td>\n",
              "      <td>...</td>\n",
              "      <td>0.000000</td>\n",
              "      <td>0.000000</td>\n",
              "      <td>1.000000</td>\n",
              "      <td>0.000000</td>\n",
              "      <td>0.000000</td>\n",
              "      <td>0.000000</td>\n",
              "      <td>0.000000</td>\n",
              "      <td>0.000000</td>\n",
              "      <td>0.000000</td>\n",
              "      <td>0.000000</td>\n",
              "    </tr>\n",
              "    <tr>\n",
              "      <th>75%</th>\n",
              "      <td>1.000000</td>\n",
              "      <td>0.000000</td>\n",
              "      <td>1.000000</td>\n",
              "      <td>0.000000</td>\n",
              "      <td>1.000000</td>\n",
              "      <td>1.00000</td>\n",
              "      <td>0.000000</td>\n",
              "      <td>0.000000</td>\n",
              "      <td>1.000000</td>\n",
              "      <td>0.000000</td>\n",
              "      <td>...</td>\n",
              "      <td>0.000000</td>\n",
              "      <td>0.000000</td>\n",
              "      <td>1.000000</td>\n",
              "      <td>0.000000</td>\n",
              "      <td>0.000000</td>\n",
              "      <td>0.000000</td>\n",
              "      <td>0.000000</td>\n",
              "      <td>0.000000</td>\n",
              "      <td>0.000000</td>\n",
              "      <td>1.000000</td>\n",
              "    </tr>\n",
              "    <tr>\n",
              "      <th>max</th>\n",
              "      <td>1.000000</td>\n",
              "      <td>1.000000</td>\n",
              "      <td>1.000000</td>\n",
              "      <td>1.000000</td>\n",
              "      <td>1.000000</td>\n",
              "      <td>1.00000</td>\n",
              "      <td>1.000000</td>\n",
              "      <td>1.000000</td>\n",
              "      <td>1.000000</td>\n",
              "      <td>1.000000</td>\n",
              "      <td>...</td>\n",
              "      <td>1.000000</td>\n",
              "      <td>1.000000</td>\n",
              "      <td>1.000000</td>\n",
              "      <td>1.000000</td>\n",
              "      <td>1.000000</td>\n",
              "      <td>1.000000</td>\n",
              "      <td>1.000000</td>\n",
              "      <td>1.000000</td>\n",
              "      <td>1.000000</td>\n",
              "      <td>1.000000</td>\n",
              "    </tr>\n",
              "  </tbody>\n",
              "</table>\n",
              "<p>8 rows × 100 columns</p>\n",
              "</div>"
            ],
            "text/plain": [
              "       channel_code_1  channel_code_2  channel_code_3  main_product_code_1  \\\n",
              "count   341424.000000   341424.000000   341424.000000        341424.000000   \n",
              "mean         0.472213        0.152763        0.375023             0.169355   \n",
              "std          0.499228        0.359760        0.484130             0.375066   \n",
              "min          0.000000        0.000000        0.000000             0.000000   \n",
              "25%          0.000000        0.000000        0.000000             0.000000   \n",
              "50%          0.000000        0.000000        0.000000             0.000000   \n",
              "75%          1.000000        0.000000        1.000000             0.000000   \n",
              "max          1.000000        1.000000        1.000000             1.000000   \n",
              "\n",
              "       main_product_code_2  main_product_code_3  main_product_code_4  \\\n",
              "count        341424.000000         341424.00000        341424.000000   \n",
              "mean              0.520218              0.25261             0.054533   \n",
              "std               0.499592              0.43451             0.227067   \n",
              "min               0.000000              0.00000             0.000000   \n",
              "25%               0.000000              0.00000             0.000000   \n",
              "50%               1.000000              0.00000             0.000000   \n",
              "75%               1.000000              1.00000             0.000000   \n",
              "max               1.000000              1.00000             1.000000   \n",
              "\n",
              "       main_product_code_7  Persontravellingid_0  Persontravellingid_1  ...  \\\n",
              "count        341424.000000         341424.000000         341424.000000  ...   \n",
              "mean              0.003283              0.782918              0.092495  ...   \n",
              "std               0.057206              0.412259              0.289724  ...   \n",
              "min               0.000000              0.000000              0.000000  ...   \n",
              "25%               0.000000              1.000000              0.000000  ...   \n",
              "50%               0.000000              1.000000              0.000000  ...   \n",
              "75%               0.000000              1.000000              0.000000  ...   \n",
              "max               1.000000              1.000000              1.000000  ...   \n",
              "\n",
              "       Member_age_buckets_8  Member_age_buckets_9  booking_type_code_1  \\\n",
              "count         341424.000000         341424.000000        341424.000000   \n",
              "mean               0.020661              0.004036             0.875791   \n",
              "std                0.142245              0.063402             0.329821   \n",
              "min                0.000000              0.000000             0.000000   \n",
              "25%                0.000000              0.000000             1.000000   \n",
              "50%                0.000000              0.000000             1.000000   \n",
              "75%                0.000000              0.000000             1.000000   \n",
              "max                1.000000              1.000000             1.000000   \n",
              "\n",
              "       booking_type_code_2  Cluster_code_0  Cluster_code_1  Cluster_code_2  \\\n",
              "count        341424.000000   341424.000000   341424.000000   341424.000000   \n",
              "mean              0.124209        0.086725        0.110329        0.110739   \n",
              "std               0.329821        0.281432        0.313300        0.313809   \n",
              "min               0.000000        0.000000        0.000000        0.000000   \n",
              "25%               0.000000        0.000000        0.000000        0.000000   \n",
              "50%               0.000000        0.000000        0.000000        0.000000   \n",
              "75%               0.000000        0.000000        0.000000        0.000000   \n",
              "max               1.000000        1.000000        1.000000        1.000000   \n",
              "\n",
              "       Cluster_code_3  Cluster_code_4  Cluster_code_5  \n",
              "count   341424.000000   341424.000000   341424.000000  \n",
              "mean         0.163676        0.175237        0.353294  \n",
              "std          0.369982        0.380170        0.477994  \n",
              "min          0.000000        0.000000        0.000000  \n",
              "25%          0.000000        0.000000        0.000000  \n",
              "50%          0.000000        0.000000        0.000000  \n",
              "75%          0.000000        0.000000        1.000000  \n",
              "max          1.000000        1.000000        1.000000  \n",
              "\n",
              "[8 rows x 100 columns]"
            ]
          },
          "metadata": {
            "tags": []
          },
          "execution_count": 26
        }
      ]
    },
    {
      "cell_type": "code",
      "metadata": {
        "id": "cXZhz_42vzz-",
        "colab_type": "code",
        "outputId": "fb0e0f63-979b-4425-8f67-62b450be18f7",
        "colab": {
          "base_uri": "https://localhost:8080/",
          "height": 51
        }
      },
      "source": [
        "print(cat_data.shape)\n",
        "for i in cat_data.columns:\n",
        "  if (cat_data[i] == 1).sum() < 5000:\n",
        "    cat_data.drop([i], axis=1, inplace= True)\n",
        "    \n",
        "print(cat_data.shape)"
      ],
      "execution_count": 27,
      "outputs": [
        {
          "output_type": "stream",
          "text": [
            "(341424, 100)\n",
            "(341424, 66)\n"
          ],
          "name": "stdout"
        }
      ]
    },
    {
      "cell_type": "code",
      "metadata": {
        "id": "ztAv8Gkl0p61",
        "colab_type": "code",
        "colab": {
          "base_uri": "https://localhost:8080/",
          "height": 51
        },
        "outputId": "3e65856c-0a9f-4923-d929-0d1a6bb68f89"
      },
      "source": [
        "print(cat_data.shape)\n",
        "for i in cat_data.columns:\n",
        "  if cat_data[i].corr(num_data['amount_spent_per_room_night_scaled']) < 0.003:\n",
        "      cat_data.drop([i], axis=1, inplace= True)\n",
        "    \n",
        "print(cat_data.shape)"
      ],
      "execution_count": 28,
      "outputs": [
        {
          "output_type": "stream",
          "text": [
            "(341424, 66)\n",
            "(341424, 27)\n"
          ],
          "name": "stdout"
        }
      ]
    },
    {
      "cell_type": "code",
      "metadata": {
        "id": "10dvkmHstLyo",
        "colab_type": "code",
        "colab": {
          "base_uri": "https://localhost:8080/",
          "height": 323
        },
        "outputId": "5fceb705-409d-451d-ad9a-0261639d44ff"
      },
      "source": [
        "df.corrwith(df['amount_spent_per_room_night_scaled'])"
      ],
      "execution_count": 68,
      "outputs": [
        {
          "output_type": "execute_result",
          "data": {
            "text/plain": [
              "channel_code                          0.088124\n",
              "main_product_code                    -0.081229\n",
              "numberofadults                        0.150047\n",
              "numberofchildren                      0.047827\n",
              "persontravellingid                   -0.040716\n",
              "resort_region_code                   -0.074258\n",
              "resort_type_code                     -0.024186\n",
              "room_type_booked_code                -0.050563\n",
              "season_holidayed_code                -0.082181\n",
              "state_code_residence                 -0.026229\n",
              "state_code_resort                     0.033793\n",
              "total_pax                             0.143138\n",
              "booking_type_code                     0.020525\n",
              "amount_spent_per_room_night_scaled    1.000000\n",
              "stay                                 -0.198800\n",
              "adultsp                               0.048417\n",
              "childrenp                             0.033096\n",
              "dtype: float64"
            ]
          },
          "metadata": {
            "tags": []
          },
          "execution_count": 68
        }
      ]
    },
    {
      "cell_type": "code",
      "metadata": {
        "id": "WPQo6DmNodWw",
        "colab_type": "code",
        "outputId": "66ce64ca-29f5-42ce-81a5-4f057a562a84",
        "colab": {
          "base_uri": "https://localhost:8080/",
          "height": 493
        }
      },
      "source": [
        "correlation_dataframe = cat_data.copy()\n",
        "correlation_dataframe.corrwith(df['amount_spent_per_room_night_scaled'])"
      ],
      "execution_count": 30,
      "outputs": [
        {
          "output_type": "execute_result",
          "data": {
            "text/plain": [
              "channel_code_2               0.023089\n",
              "channel_code_3               0.074726\n",
              "main_product_code_1          0.059578\n",
              "main_product_code_2          0.019785\n",
              "Persontravellingid_0         0.112267\n",
              "resort_region_code_1         0.048302\n",
              "resort_region_code_2         0.016558\n",
              "resort_type_code_1           0.045968\n",
              "resort_type_code_4           0.005359\n",
              "resort_type_code_5           0.045353\n",
              "season_holidayed_code_1.0    0.072610\n",
              "season_holidayed_code_2.0    0.029889\n",
              "State_code_residence_1.0     0.027105\n",
              "State_code_residence_2.0     0.043009\n",
              "State_code_residence_10.0    0.017863\n",
              "state_code_resort_1          0.025144\n",
              "state_code_resort_6          0.069844\n",
              "state_code_resort_7          0.048528\n",
              "state_code_resort_11         0.017515\n",
              "room_type_booked_code_1      0.017035\n",
              "room_type_booked_code_2      0.061283\n",
              "Member_age_buckets_0         0.027646\n",
              "Member_age_buckets_1         0.031175\n",
              "Member_age_buckets_3         0.003002\n",
              "booking_type_code_2          0.020525\n",
              "Cluster_code_2               0.048528\n",
              "Cluster_code_4               0.025144\n",
              "dtype: float64"
            ]
          },
          "metadata": {
            "tags": []
          },
          "execution_count": 30
        }
      ]
    },
    {
      "cell_type": "markdown",
      "metadata": {
        "id": "idgG25EoDWra",
        "colab_type": "text"
      },
      "source": [
        "**MODEL**"
      ]
    },
    {
      "cell_type": "code",
      "metadata": {
        "id": "BGGFY1R-E5kb",
        "colab_type": "code",
        "colab": {}
      },
      "source": [
        "train=pd.concat([cat_data, num_data], axis = 1)\n",
        "Y =train['amount_spent_per_room_night_scaled']\n",
        "X =train.drop(['amount_spent_per_room_night_scaled'],axis=1)"
      ],
      "execution_count": 0,
      "outputs": []
    },
    {
      "cell_type": "code",
      "metadata": {
        "id": "2JAsdvgQck_n",
        "colab_type": "code",
        "outputId": "ab23e9ad-2343-48a0-8ea2-c5a8c5866e91",
        "colab": {
          "base_uri": "https://localhost:8080/",
          "height": 629
        }
      },
      "source": [
        "X.isnull().sum()\n",
        "#X[\"season_holidayed_code\"].value_counts()"
      ],
      "execution_count": 32,
      "outputs": [
        {
          "output_type": "execute_result",
          "data": {
            "text/plain": [
              "channel_code_2               0\n",
              "channel_code_3               0\n",
              "main_product_code_1          0\n",
              "main_product_code_2          0\n",
              "Persontravellingid_0         0\n",
              "resort_region_code_1         0\n",
              "resort_region_code_2         0\n",
              "resort_type_code_1           0\n",
              "resort_type_code_4           0\n",
              "resort_type_code_5           0\n",
              "season_holidayed_code_1.0    0\n",
              "season_holidayed_code_2.0    0\n",
              "State_code_residence_1.0     0\n",
              "State_code_residence_2.0     0\n",
              "State_code_residence_10.0    0\n",
              "state_code_resort_1          0\n",
              "state_code_resort_6          0\n",
              "state_code_resort_7          0\n",
              "state_code_resort_11         0\n",
              "room_type_booked_code_1      0\n",
              "room_type_booked_code_2      0\n",
              "Member_age_buckets_0         0\n",
              "Member_age_buckets_1         0\n",
              "Member_age_buckets_3         0\n",
              "booking_type_code_2          0\n",
              "Cluster_code_2               0\n",
              "Cluster_code_4               0\n",
              "adultsp                      0\n",
              "childrenp                    0\n",
              "numberofadults               0\n",
              "numberofchildren             0\n",
              "stay                         0\n",
              "planning                     0\n",
              "extradays                    0\n",
              "total_pax                    0\n",
              "dtype: int64"
            ]
          },
          "metadata": {
            "tags": []
          },
          "execution_count": 32
        }
      ]
    },
    {
      "cell_type": "code",
      "metadata": {
        "id": "rTsWWkEoDWRl",
        "colab_type": "code",
        "outputId": "3b7e57a2-5f52-425c-cd24-95bd519ffe56",
        "colab": {
          "base_uri": "https://localhost:8080/",
          "height": 34
        }
      },
      "source": [
        "n = X.shape[1]\n",
        "gbr_reg = GradientBoostingRegressor(max_depth=3, n_estimators=n,  \n",
        "          criterion='mse', random_state=42) \n",
        "gbr_reg.fit(X,Y)\n",
        "y_hat_gbr= gbr_reg.predict(X)\n",
        "\n",
        "mse_gbr = mean_squared_error(Y, y_hat_gbr)\n",
        "rmse_gbr = np.sqrt(mse_gbr)\n",
        "rmse_gbr"
      ],
      "execution_count": 33,
      "outputs": [
        {
          "output_type": "execute_result",
          "data": {
            "text/plain": [
              "0.10960553322746933"
            ]
          },
          "metadata": {
            "tags": []
          },
          "execution_count": 33
        }
      ]
    },
    {
      "cell_type": "code",
      "metadata": {
        "id": "biFmJ8SZsqZI",
        "colab_type": "code",
        "outputId": "5a203cc1-ade7-4bb2-8f95-5155658b455f",
        "colab": {
          "base_uri": "https://localhost:8080/",
          "height": 34
        }
      },
      "source": [
        "model = RandomForestRegressor(max_depth=3, n_estimators=150, random_state=42)\n",
        "model.fit(X, Y)\n",
        "\n",
        "y_hat= model.predict(X)\n",
        "\n",
        "mse = mean_squared_error(Y, y_hat)\n",
        "rmse = np.sqrt(mse)\n",
        "rmse\n",
        "#test_predicted = pd.DataFrame()\n",
        "#test_predicted['Id'] = test_data.Id\n",
        "#test_predicted['Prediction'] = model.predict(test_data.drop('Id', axis=1))\n",
        "#test_predicted.to_csv('submission-random-forest.csv', index=False)\n",
        "#test_predicted.describe()"
      ],
      "execution_count": 34,
      "outputs": [
        {
          "output_type": "execute_result",
          "data": {
            "text/plain": [
              "0.11190052488387797"
            ]
          },
          "metadata": {
            "tags": []
          },
          "execution_count": 34
        }
      ]
    },
    {
      "cell_type": "code",
      "metadata": {
        "id": "tq49xJPyuqSH",
        "colab_type": "code",
        "outputId": "15fe4afc-b8f0-4f44-eea1-ee365bae5fd9",
        "colab": {
          "base_uri": "https://localhost:8080/",
          "height": 34
        }
      },
      "source": [
        "from sklearn.linear_model import LinearRegression\n",
        "model = LinearRegression()\n",
        "model.fit(X, Y)\n",
        "y_hat= model.predict(X)\n",
        "\n",
        "mse = mean_squared_error(Y, y_hat)\n",
        "rmse = np.sqrt(mse)\n",
        "rmse\n",
        "#test_predicted = pd.DataFrame()\n",
        "#test_predicted['Id'] = test_data.Id\n",
        "#test_predicted['Prediction'] = model.predict(test_data.drop('Id', axis=1))\n",
        "#test_predicted.to_csv('submission-logreg.csv', index=False)\n",
        "#test_predicted.describe()"
      ],
      "execution_count": 35,
      "outputs": [
        {
          "output_type": "execute_result",
          "data": {
            "text/plain": [
              "0.10982044773101043"
            ]
          },
          "metadata": {
            "tags": []
          },
          "execution_count": 35
        }
      ]
    }
  ]
}